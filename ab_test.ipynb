{
 "cells": [
  {
   "cell_type": "code",
   "execution_count": 89,
   "id": "e056a330-30db-437b-8e8e-65acbe48679c",
   "metadata": {},
   "outputs": [],
   "source": [
    "import pandas as pd\n",
    "import numpy as np\n",
    "\n",
    "import seaborn as sns\n",
    "import matplotlib.pyplot as plt\n",
    "\n",
    "from scipy import stats\n",
    "from statsmodels.stats.proportion import proportion_confint\n",
    "from tqdm.notebook import tqdm\n",
    "\n",
    "import pandahouse as ph\n",
    "import swifter\n",
    "\n",
    "import os\n",
    "import matplotlib.image as mpimg\n",
    "import re"
   ]
  },
  {
   "cell_type": "code",
   "execution_count": 90,
   "id": "771cd7c6-7c68-4893-b68c-b313a69925ca",
   "metadata": {},
   "outputs": [],
   "source": [
    "sns.set_style('darkgrid')\n",
    "pd.set_option('display.float_format', '{:.3f}'.format)\n",
    "\n",
    "plt.rcParams['figure.figsize'] = [15, 10]"
   ]
  },
  {
   "cell_type": "code",
   "execution_count": 91,
   "id": "5076a0a9-9790-4401-adb4-5335e68a9926",
   "metadata": {},
   "outputs": [],
   "source": [
    "connection = {'host': 'https://clickhouse.lab.karpov.courses',\n",
    "'database':'simulator',\n",
    "'user':'student',\n",
    "'password':'dpo_python_2020'\n",
    "}"
   ]
  },
  {
   "cell_type": "markdown",
   "id": "f9ab02ca-4273-4fa1-874f-7dcbd19392df",
   "metadata": {},
   "source": [
    "## Загружаем данные\n",
    "* exp_group = 1 - Все по-старому\n",
    "* exp_group = 2 - Рекомендации \"похожих на лайкнутые постов\"\n"
   ]
  },
  {
   "cell_type": "code",
   "execution_count": 92,
   "id": "0e4eb835-67bf-4771-a76d-b62d109674ad",
   "metadata": {},
   "outputs": [],
   "source": [
    "query_ab = '''\n",
    "select  exp_group,\n",
    "        case when exp_group = 1 then 'control' else 'test' end as group_name,\n",
    "        user_id,\n",
    "        sum(action = 'like') as likes,\n",
    "        sum(action = 'view') as views,\n",
    "        likes / views as ctr\n",
    "from    simulator_20231113.feed_actions\n",
    "where   exp_group in (1, 2) and toDate(time) >= toDate('2023-10-25') and toDate(time) <= toDate('2023-10-31')\n",
    "group by exp_group, user_id\n",
    "'''"
   ]
  },
  {
   "cell_type": "code",
   "execution_count": 93,
   "id": "10602a58-c59d-4bc9-b018-f10afdf1fbee",
   "metadata": {},
   "outputs": [],
   "source": [
    "df_ab = ph.read_clickhouse(query_ab, connection = connection)"
   ]
  },
  {
   "cell_type": "code",
   "execution_count": 94,
   "id": "7c1a94c6-2c69-45be-a6c2-a8c91dbc6aa7",
   "metadata": {},
   "outputs": [
    {
     "data": {
      "text/html": [
       "<div>\n",
       "<style scoped>\n",
       "    .dataframe tbody tr th:only-of-type {\n",
       "        vertical-align: middle;\n",
       "    }\n",
       "\n",
       "    .dataframe tbody tr th {\n",
       "        vertical-align: top;\n",
       "    }\n",
       "\n",
       "    .dataframe thead th {\n",
       "        text-align: right;\n",
       "    }\n",
       "</style>\n",
       "<table border=\"1\" class=\"dataframe\">\n",
       "  <thead>\n",
       "    <tr style=\"text-align: right;\">\n",
       "      <th></th>\n",
       "      <th>exp_group</th>\n",
       "      <th>group_name</th>\n",
       "      <th>user_id</th>\n",
       "      <th>likes</th>\n",
       "      <th>views</th>\n",
       "      <th>ctr</th>\n",
       "    </tr>\n",
       "  </thead>\n",
       "  <tbody>\n",
       "    <tr>\n",
       "      <th>0</th>\n",
       "      <td>1</td>\n",
       "      <td>control</td>\n",
       "      <td>109963</td>\n",
       "      <td>3</td>\n",
       "      <td>15</td>\n",
       "      <td>0.200</td>\n",
       "    </tr>\n",
       "    <tr>\n",
       "      <th>1</th>\n",
       "      <td>1</td>\n",
       "      <td>control</td>\n",
       "      <td>26117</td>\n",
       "      <td>32</td>\n",
       "      <td>141</td>\n",
       "      <td>0.227</td>\n",
       "    </tr>\n",
       "    <tr>\n",
       "      <th>2</th>\n",
       "      <td>1</td>\n",
       "      <td>control</td>\n",
       "      <td>138232</td>\n",
       "      <td>18</td>\n",
       "      <td>73</td>\n",
       "      <td>0.247</td>\n",
       "    </tr>\n",
       "  </tbody>\n",
       "</table>\n",
       "</div>"
      ],
      "text/plain": [
       "   exp_group group_name  user_id  likes  views   ctr\n",
       "0          1    control   109963      3     15 0.200\n",
       "1          1    control    26117     32    141 0.227\n",
       "2          1    control   138232     18     73 0.247"
      ]
     },
     "execution_count": 94,
     "metadata": {},
     "output_type": "execute_result"
    }
   ],
   "source": [
    "df_ab.head(3)"
   ]
  },
  {
   "cell_type": "markdown",
   "id": "488fa535-587a-4c5b-874f-64bd8db486bb",
   "metadata": {},
   "source": [
    "#### Проверяем загруженные данные"
   ]
  },
  {
   "cell_type": "code",
   "execution_count": 95,
   "id": "3f65bd6f-e4fd-4bba-9589-96c6fe84fd6b",
   "metadata": {},
   "outputs": [
    {
     "data": {
      "text/html": [
       "<div>\n",
       "<style scoped>\n",
       "    .dataframe tbody tr th:only-of-type {\n",
       "        vertical-align: middle;\n",
       "    }\n",
       "\n",
       "    .dataframe tbody tr th {\n",
       "        vertical-align: top;\n",
       "    }\n",
       "\n",
       "    .dataframe thead th {\n",
       "        text-align: right;\n",
       "    }\n",
       "</style>\n",
       "<table border=\"1\" class=\"dataframe\">\n",
       "  <thead>\n",
       "    <tr style=\"text-align: right;\">\n",
       "      <th></th>\n",
       "      <th>user_id</th>\n",
       "      <th>group_name</th>\n",
       "    </tr>\n",
       "  </thead>\n",
       "  <tbody>\n",
       "    <tr>\n",
       "      <th>0</th>\n",
       "      <td>206</td>\n",
       "      <td>1</td>\n",
       "    </tr>\n",
       "    <tr>\n",
       "      <th>1</th>\n",
       "      <td>216</td>\n",
       "      <td>1</td>\n",
       "    </tr>\n",
       "    <tr>\n",
       "      <th>2</th>\n",
       "      <td>220</td>\n",
       "      <td>1</td>\n",
       "    </tr>\n",
       "    <tr>\n",
       "      <th>3</th>\n",
       "      <td>224</td>\n",
       "      <td>1</td>\n",
       "    </tr>\n",
       "    <tr>\n",
       "      <th>4</th>\n",
       "      <td>227</td>\n",
       "      <td>1</td>\n",
       "    </tr>\n",
       "    <tr>\n",
       "      <th>...</th>\n",
       "      <td>...</td>\n",
       "      <td>...</td>\n",
       "    </tr>\n",
       "    <tr>\n",
       "      <th>19892</th>\n",
       "      <td>140052</td>\n",
       "      <td>1</td>\n",
       "    </tr>\n",
       "    <tr>\n",
       "      <th>19893</th>\n",
       "      <td>140054</td>\n",
       "      <td>1</td>\n",
       "    </tr>\n",
       "    <tr>\n",
       "      <th>19894</th>\n",
       "      <td>140059</td>\n",
       "      <td>1</td>\n",
       "    </tr>\n",
       "    <tr>\n",
       "      <th>19895</th>\n",
       "      <td>140060</td>\n",
       "      <td>1</td>\n",
       "    </tr>\n",
       "    <tr>\n",
       "      <th>19896</th>\n",
       "      <td>140740</td>\n",
       "      <td>1</td>\n",
       "    </tr>\n",
       "  </tbody>\n",
       "</table>\n",
       "<p>19897 rows × 2 columns</p>\n",
       "</div>"
      ],
      "text/plain": [
       "       user_id  group_name\n",
       "0          206           1\n",
       "1          216           1\n",
       "2          220           1\n",
       "3          224           1\n",
       "4          227           1\n",
       "...        ...         ...\n",
       "19892   140052           1\n",
       "19893   140054           1\n",
       "19894   140059           1\n",
       "19895   140060           1\n",
       "19896   140740           1\n",
       "\n",
       "[19897 rows x 2 columns]"
      ]
     },
     "execution_count": 95,
     "metadata": {},
     "output_type": "execute_result"
    }
   ],
   "source": [
    "(\n",
    "    df_ab\n",
    "    .groupby('user_id', as_index=False)\n",
    "    .agg({'group_name': 'nunique'})\n",
    ")"
   ]
  },
  {
   "cell_type": "markdown",
   "id": "c2b459b1-b0fd-4e5c-9e66-2a0ccac506a4",
   "metadata": {},
   "source": [
    "Нет пересечения пользователей из разных групп"
   ]
  },
  {
   "cell_type": "code",
   "execution_count": 96,
   "id": "e1bce7f1-0da5-45d4-8db1-187243cc8d93",
   "metadata": {},
   "outputs": [
    {
     "data": {
      "text/html": [
       "<div>\n",
       "<style scoped>\n",
       "    .dataframe tbody tr th:only-of-type {\n",
       "        vertical-align: middle;\n",
       "    }\n",
       "\n",
       "    .dataframe tbody tr th {\n",
       "        vertical-align: top;\n",
       "    }\n",
       "\n",
       "    .dataframe thead th {\n",
       "        text-align: right;\n",
       "    }\n",
       "</style>\n",
       "<table border=\"1\" class=\"dataframe\">\n",
       "  <thead>\n",
       "    <tr style=\"text-align: right;\">\n",
       "      <th></th>\n",
       "      <th>group_name</th>\n",
       "      <th>user_id</th>\n",
       "    </tr>\n",
       "  </thead>\n",
       "  <tbody>\n",
       "    <tr>\n",
       "      <th>0</th>\n",
       "      <td>control</td>\n",
       "      <td>10020</td>\n",
       "    </tr>\n",
       "    <tr>\n",
       "      <th>1</th>\n",
       "      <td>test</td>\n",
       "      <td>9877</td>\n",
       "    </tr>\n",
       "  </tbody>\n",
       "</table>\n",
       "</div>"
      ],
      "text/plain": [
       "  group_name  user_id\n",
       "0    control    10020\n",
       "1       test     9877"
      ]
     },
     "execution_count": 96,
     "metadata": {},
     "output_type": "execute_result"
    }
   ],
   "source": [
    "(\n",
    "    df_ab\n",
    "    .groupby('group_name', as_index=False)\n",
    "    .agg({'user_id': 'count'})\n",
    ")"
   ]
  },
  {
   "cell_type": "markdown",
   "id": "5fcb8347-9edc-474f-9a8e-9f55025c0ae6",
   "metadata": {},
   "source": [
    "Тестовая и контрольная выборки примерно одинаковы"
   ]
  },
  {
   "cell_type": "code",
   "execution_count": 97,
   "id": "394338f3-7540-485c-9e4c-ccc6661b0c26",
   "metadata": {},
   "outputs": [
    {
     "data": {
      "text/html": [
       "<div>\n",
       "<style scoped>\n",
       "    .dataframe tbody tr th:only-of-type {\n",
       "        vertical-align: middle;\n",
       "    }\n",
       "\n",
       "    .dataframe tbody tr th {\n",
       "        vertical-align: top;\n",
       "    }\n",
       "\n",
       "    .dataframe thead th {\n",
       "        text-align: right;\n",
       "    }\n",
       "</style>\n",
       "<table border=\"1\" class=\"dataframe\">\n",
       "  <thead>\n",
       "    <tr style=\"text-align: right;\">\n",
       "      <th></th>\n",
       "      <th>exp_group</th>\n",
       "      <th>group_name</th>\n",
       "      <th>user_id</th>\n",
       "      <th>likes</th>\n",
       "      <th>views</th>\n",
       "      <th>ctr</th>\n",
       "    </tr>\n",
       "  </thead>\n",
       "  <tbody>\n",
       "    <tr>\n",
       "      <th>0</th>\n",
       "      <td>1</td>\n",
       "      <td>control</td>\n",
       "      <td>109963</td>\n",
       "      <td>3</td>\n",
       "      <td>15</td>\n",
       "      <td>0.200</td>\n",
       "    </tr>\n",
       "    <tr>\n",
       "      <th>1</th>\n",
       "      <td>1</td>\n",
       "      <td>control</td>\n",
       "      <td>26117</td>\n",
       "      <td>32</td>\n",
       "      <td>141</td>\n",
       "      <td>0.227</td>\n",
       "    </tr>\n",
       "    <tr>\n",
       "      <th>2</th>\n",
       "      <td>1</td>\n",
       "      <td>control</td>\n",
       "      <td>138232</td>\n",
       "      <td>18</td>\n",
       "      <td>73</td>\n",
       "      <td>0.247</td>\n",
       "    </tr>\n",
       "  </tbody>\n",
       "</table>\n",
       "</div>"
      ],
      "text/plain": [
       "   exp_group group_name  user_id  likes  views   ctr\n",
       "0          1    control   109963      3     15 0.200\n",
       "1          1    control    26117     32    141 0.227\n",
       "2          1    control   138232     18     73 0.247"
      ]
     },
     "execution_count": 97,
     "metadata": {},
     "output_type": "execute_result"
    }
   ],
   "source": [
    "df_ab.head(3)"
   ]
  },
  {
   "cell_type": "markdown",
   "id": "00032439-7536-44a9-9f5d-01ad7cb4b00e",
   "metadata": {},
   "source": [
    "Строим гистаграмму"
   ]
  },
  {
   "cell_type": "code",
   "execution_count": 98,
   "id": "9dee110f-ab03-44b7-9a6a-13492c223276",
   "metadata": {},
   "outputs": [
    {
     "data": {
      "image/png": "[encoded data removed]",
      "text/plain": [
       "<Figure size 1080x720 with 1 Axes>"
      ]
     },
     "metadata": {},
     "output_type": "display_data"
    }
   ],
   "source": [
    "sns.histplot(\n",
    "    data= df_ab,\n",
    "    x = 'ctr',\n",
    "    hue='group_name');\n",
    "\n",
    "plt.show()"
   ]
  },
  {
   "cell_type": "markdown",
   "id": "345c63ad-9d07-4d1f-84b0-e6d9175c8f1f",
   "metadata": {},
   "source": [
    "На основе гистограммы можно сделать вывод, что пользователи по-разному отреагировали на нововведение.  \n",
    "Для части пользователей ключевая метрика просела, для части выросла.  \n",
    "Это нормальное явление, пользователи по-разному могут реагировать на одинаковые изменения. "
   ]
  },
  {
   "cell_type": "code",
   "execution_count": 99,
   "id": "c39d1978-1c7e-4ec3-851a-64941803d176",
   "metadata": {},
   "outputs": [
    {
     "data": {
      "text/plain": [
       "(0.2161016893237817, 0.216773994120072)"
      ]
     },
     "execution_count": 99,
     "metadata": {},
     "output_type": "execute_result"
    }
   ],
   "source": [
    "df_ab[df_ab['group_name'] == 'test'].ctr.mean(), df_ab[df_ab['group_name'] == 'control'].ctr.mean()"
   ]
  },
  {
   "cell_type": "markdown",
   "id": "d356ad46-2b94-4e40-8e7a-15f39be42129",
   "metadata": {},
   "source": [
    "H0 для t-теста:  \n",
    "средние значения CTR для групп пользователей не отличается  \n",
    " H1:  \n",
    "    средние значения CTR не равны.\n",
    "      "
   ]
  },
  {
   "cell_type": "code",
   "execution_count": 100,
   "id": "91c3ec84-ecae-4573-a725-bca11e82a8bc",
   "metadata": {},
   "outputs": [
    {
     "name": "stdout",
     "output_type": "stream",
     "text": [
      "Stat: -0.4051491913112757, p-value: 0.685373331140751\n"
     ]
    }
   ],
   "source": [
    "stat_ttest, p_value_ttest = stats.ttest_ind(\n",
    "    df_ab[df_ab['group_name'] == 'test'].ctr,\n",
    "    df_ab[df_ab['group_name'] == 'control'].ctr,\n",
    "    equal_var=False\n",
    ")\n",
    "print(f'Stat: {stat_ttest}, p-value: {p_value_ttest}')"
   ]
  },
  {
   "cell_type": "markdown",
   "id": "e7ab8a5a-8d07-4e21-b79e-70f99047855b",
   "metadata": {},
   "source": [
    "H0 для U-теста Манна-Уитни:  \n",
    "    вероятность того, что CTR для тестовой группы будет больше CTR для контроольной группы P(X > Y) равна вероятности обратного события P(Y > X)  \n",
    "H1:  \n",
    "    вероятности не равны P(X > Y) != P(Y > X)"
   ]
  },
  {
   "cell_type": "code",
   "execution_count": 101,
   "id": "ad6048a3-a38f-4ae9-b757-da73f83409c4",
   "metadata": {},
   "outputs": [
    {
     "name": "stdout",
     "output_type": "stream",
     "text": [
      "Stat: 43777627.0, p-value: 4.632205841806026e-45\n"
     ]
    }
   ],
   "source": [
    "stat_utest, p_value_utest = stats.mannwhitneyu(\n",
    "    df_ab[df_ab['group_name'] == 'test'].ctr,\n",
    "    df_ab[df_ab['group_name'] == 'control'].ctr\n",
    ")\n",
    "print(f'Stat: {stat_utest}, p-value: {p_value_utest}')"
   ]
  },
  {
   "cell_type": "code",
   "execution_count": 102,
   "id": "19196832-7873-4255-bce4-36cefe90c69e",
   "metadata": {},
   "outputs": [
    {
     "data": {
      "application/json": {
       "ascii": false,
       "bar_format": null,
       "colour": null,
       "elapsed": 0.059984445571899414,
       "initial": 0,
       "n": 0,
       "ncols": null,
       "nrows": null,
       "postfix": null,
       "prefix": "",
       "rate": null,
       "total": 10000,
       "unit": "it",
       "unit_divisor": 1000,
       "unit_scale": false
      },
      "application/vnd.jupyter.widget-view+json": {
       "model_id": "b08b7b5ce56745e087ffa1995b0bb377",
       "version_major": 2,
       "version_minor": 0
      },
      "text/plain": [
       "  0%|          | 0/10000 [00:00<?, ?it/s]"
      ]
     },
     "metadata": {},
     "output_type": "display_data"
    },
    {
     "name": "stdout",
     "output_type": "stream",
     "text": [
      "B 44.01 % случаев Test > Control\n"
     ]
    }
   ],
   "source": [
    "test = df_ab[df_ab['group_name'] == 'test'].ctr.to_numpy()\n",
    "control = df_ab[df_ab['group_name'] == 'control'].ctr.to_numpy()\n",
    "\n",
    "\n",
    "A_gt_b = 0\n",
    "for _ in tqdm(range(10000)):\n",
    "    A_gt_b +=  np.random.choice(test) > np.random.choice(control)\n",
    "print('B', A_gt_b/100, '% случаев Test > Control')"
   ]
  },
  {
   "cell_type": "markdown",
   "id": "60d077b7-0373-451a-ae12-b8ca5f9f9aba",
   "metadata": {},
   "source": [
    "#### Результаты t-теста\n",
    "Так как p-value для t-теста превышает уровень значимости 0,05, мы не может отвергнуть H0.  \n",
    "Поэтому на основе проведенного теста мы делаем вывод, что CTR не изменился.\n",
    "#### Результаты u-теста\n",
    "Так как p-value для t-теста меньше уровеня значимости 0,05, мы отвергаем H0.  \n",
    "В 44,43% случаев CTR для тестовой выборки больше CTR контрольной выборки.\n"
   ]
  },
  {
   "cell_type": "markdown",
   "id": "8856f45e-0b38-44fc-9f80-b944d205ba05",
   "metadata": {},
   "source": [
    "## CUPED"
   ]
  },
  {
   "cell_type": "markdown",
   "id": "85de8335-84b5-4ab8-81bc-4bbb9a79eb34",
   "metadata": {},
   "source": [
    "Также попробую провести CUPED t-test."
   ]
  },
  {
   "cell_type": "code",
   "execution_count": 103,
   "id": "0dde15cc-c538-4be2-86de-69cf2c270249",
   "metadata": {},
   "outputs": [
    {
     "name": "stdout",
     "output_type": "stream",
     "text": [
      "metric\n"
     ]
    },
    {
     "data": {
      "image/png": "[encoded data removed]",
      "text/plain": [
       "<Figure size 288x144 with 1 Axes>"
      ]
     },
     "metadata": {},
     "output_type": "display_data"
    },
    {
     "name": "stdout",
     "output_type": "stream",
     "text": [
      "theta\n"
     ]
    },
    {
     "data": {
      "image/png": "[encoded data removed]",
      "text/plain": [
       "<Figure size 288x144 with 1 Axes>"
      ]
     },
     "metadata": {},
     "output_type": "display_data"
    }
   ],
   "source": [
    "files = os.listdir()\n",
    "pattern = re.compile(r'.png')\n",
    "for file in files:\n",
    "    if '.png' in file:\n",
    "        print(re.sub(pattern, '', file))\n",
    "        plt.subplots(figsize=(4, 2))\n",
    "        plt.imshow(mpimg.imread(file))\n",
    "        plt.grid(False)\n",
    "        plt.yticks([])\n",
    "        plt.xticks([])\n",
    "        plt.show()"
   ]
  },
  {
   "cell_type": "markdown",
   "id": "5d5f42cb-3121-46f3-b024-27e94270c4d3",
   "metadata": {},
   "source": [
    "В данном случае важно, чтобы размеры выборок в тестовом периоде и предэкспериментальном были обного размера, \n",
    "поэтому будем барть данны за период с 2023-10-05 по  2023-10-24 (период подобран вручную).  \n",
    "\n"
   ]
  },
  {
   "cell_type": "code",
   "execution_count": 104,
   "id": "dbb5464a-396a-4ecf-96e1-0abe7a213f6c",
   "metadata": {},
   "outputs": [],
   "source": [
    "query_aa = '''\n",
    "select  exp_group,\n",
    "        case when exp_group = 1 then 'control' else 'test' end as group_name,\n",
    "        user_id,\n",
    "        sum(action = 'like') as likes,\n",
    "        sum(action = 'view') as views,\n",
    "        likes / views as ctr\n",
    "from    simulator_20231113.feed_actions\n",
    "where   exp_group in (1, 2) and toDate(time) >= toDate('2023-10-05') and toDate(time) <= toDate('2023-10-24')\n",
    "group by exp_group, user_id\n",
    "'''"
   ]
  },
  {
   "cell_type": "code",
   "execution_count": 105,
   "id": "7751a226-4cc1-4003-be1e-87fde449c5d8",
   "metadata": {},
   "outputs": [],
   "source": [
    "df_aa = ph.read_clickhouse(query_aa, connection = connection)"
   ]
  },
  {
   "cell_type": "code",
   "execution_count": 106,
   "id": "053862ce-93d1-4e40-8701-d0886d32872b",
   "metadata": {},
   "outputs": [],
   "source": [
    "# переменные с данными теста\n",
    "test = df_ab[df_ab['group_name'] == 'test']['ctr'].to_numpy()\n",
    "control = df_ab[df_ab['group_name'] == 'control']['ctr'].to_numpy()"
   ]
  },
  {
   "cell_type": "code",
   "execution_count": 107,
   "id": "ce38fbd3-49f6-4a64-a1c9-576c3ffc718d",
   "metadata": {},
   "outputs": [],
   "source": [
    "# данные прдэкспериментального периода (взяты последние значения)\n",
    "test_before = df_aa[df_aa['group_name'] == 'test']['ctr'][-len(test):].to_numpy()\n",
    "control_before = df_aa[df_aa['group_name'] == 'control']['ctr'][-len(control):].to_numpy()"
   ]
  },
  {
   "cell_type": "code",
   "execution_count": 108,
   "id": "24b7dffd-ffcd-4283-949e-9001b58f9799",
   "metadata": {},
   "outputs": [],
   "source": [
    "# функция для расчтов согласно фрмулам выше\n",
    "def cuped(control, test, control_before, test_before):\n",
    "    theta = ((np.cov(control, control_before)[0, 1] + np.cov(test, test_before)[0, 1]) /\n",
    "                (np.var(control_before) + np.var(test_before)))\n",
    "    \n",
    "    control_cup = control - control_before * theta\n",
    "    test_cup = test - test_before * theta\n",
    "        \n",
    "    return control_cup, test_cup"
   ]
  },
  {
   "cell_type": "code",
   "execution_count": 109,
   "id": "8e90bf26-5bb8-4908-b3bb-b26bd2cbb9a6",
   "metadata": {},
   "outputs": [],
   "source": [
    "# расчеты\n",
    "control_cup, test_cup = cuped(\n",
    "    control, test,\n",
    "    control_before, test_before\n",
    ")"
   ]
  },
  {
   "cell_type": "code",
   "execution_count": 110,
   "id": "8d48dbc2-fa01-4f36-b614-ca44de5e0ec9",
   "metadata": {},
   "outputs": [
    {
     "data": {
      "image/png": "[encoded data removed]",
      "text/plain": [
       "<Figure size 1080x432 with 2 Axes>"
      ]
     },
     "metadata": {},
     "output_type": "display_data"
    }
   ],
   "source": [
    "figure, axs = plt.subplots(1, 2, figsize=(15, 6), constrained_layout=True)\n",
    "\n",
    "sns.histplot(\n",
    "    data= df_ab,\n",
    "    x = 'ctr',\n",
    "    hue='group_name',\n",
    "    bins=60,\n",
    "    ax=axs[0]);\n",
    "\n",
    "sns.histplot(\n",
    "    x = control_cup,\n",
    "    label = 'Control cuped',\n",
    "    bins=60,\n",
    "    ax=axs[1]);\n",
    "\n",
    "sns.histplot(\n",
    "    x = test_cup,\n",
    "    label = 'Test cuped',\n",
    "    bins=60,\n",
    "    ax=axs[1]);\n",
    "\n",
    "axs[1].legend(title = 'group_name')\n",
    "\n",
    "plt.show()"
   ]
  },
  {
   "cell_type": "code",
   "execution_count": 111,
   "id": "e01913a6-961a-49f6-a72e-461b80c4636e",
   "metadata": {},
   "outputs": [
    {
     "data": {
      "text/plain": [
       "-5.146500280765742e-07"
      ]
     },
     "execution_count": 111,
     "metadata": {},
     "output_type": "execute_result"
    }
   ],
   "source": [
    "test_cup.var() - test.var()"
   ]
  },
  {
   "cell_type": "code",
   "execution_count": 112,
   "id": "78d2c753-38b5-4cec-865f-4fad78220f76",
   "metadata": {},
   "outputs": [
    {
     "data": {
      "text/plain": [
       "1.770120410275397e-07"
      ]
     },
     "execution_count": 112,
     "metadata": {},
     "output_type": "execute_result"
    }
   ],
   "source": [
    "control_cup.var() - control.var()"
   ]
  },
  {
   "cell_type": "markdown",
   "id": "636a9c29-decd-482e-b320-03dc4ce46fee",
   "metadata": {},
   "source": [
    "В данном случае дисперсия снизилась незначительно, скорее всего результаты cuped t-теста не будут отличасть от t-теста"
   ]
  },
  {
   "cell_type": "code",
   "execution_count": 113,
   "id": "cfa0c7ee-4aa0-4be8-8d36-08e5c64aa0bf",
   "metadata": {},
   "outputs": [
    {
     "name": "stdout",
     "output_type": "stream",
     "text": [
      "Stat: -0.4062022373432776, p-value: 0.684599507522432\n"
     ]
    }
   ],
   "source": [
    "stat_ttest_cuped, p_value_ttest_cuped = stats.ttest_ind(\n",
    "    test_cup,\n",
    "    control_cup,\n",
    "    equal_var=False\n",
    ")\n",
    "print(f'Stat: {stat_ttest_cuped}, p-value: {p_value_ttest_cuped}')"
   ]
  },
  {
   "cell_type": "code",
   "execution_count": 114,
   "id": "d7eeeb66-8f98-4bf5-86a3-5b9165ea48ae",
   "metadata": {},
   "outputs": [
    {
     "name": "stdout",
     "output_type": "stream",
     "text": [
      "Stat: -0.4051491913112757, p-value: 0.685373331140751\n"
     ]
    }
   ],
   "source": [
    "print(f'Stat: {stat_ttest}, p-value: {p_value_ttest}')"
   ]
  },
  {
   "cell_type": "markdown",
   "id": "3ae2e403-62b5-4dfa-b90a-befc92bdbdef",
   "metadata": {},
   "source": [
    "### Итог\n",
    "В данном случае данный подход к снижению дисперсии не привел к увеличению мощности теста.  \n",
    "Результаты теста не будет оговорены в итоговых выводах. "
   ]
  },
  {
   "cell_type": "markdown",
   "id": "344315d9-bbf4-4c71-96f3-23201089f85c",
   "metadata": {},
   "source": [
    "## Smoothed CTR"
   ]
  },
  {
   "cell_type": "code",
   "execution_count": 116,
   "id": "efebb398-8e8a-4491-8ce8-9b9ab1124d6f",
   "metadata": {},
   "outputs": [
    {
     "data": {
      "text/html": [
       "<div>\n",
       "<style scoped>\n",
       "    .dataframe tbody tr th:only-of-type {\n",
       "        vertical-align: middle;\n",
       "    }\n",
       "\n",
       "    .dataframe tbody tr th {\n",
       "        vertical-align: top;\n",
       "    }\n",
       "\n",
       "    .dataframe thead th {\n",
       "        text-align: right;\n",
       "    }\n",
       "</style>\n",
       "<table border=\"1\" class=\"dataframe\">\n",
       "  <thead>\n",
       "    <tr style=\"text-align: right;\">\n",
       "      <th></th>\n",
       "      <th>exp_group</th>\n",
       "      <th>group_name</th>\n",
       "      <th>user_id</th>\n",
       "      <th>likes</th>\n",
       "      <th>views</th>\n",
       "      <th>ctr</th>\n",
       "    </tr>\n",
       "  </thead>\n",
       "  <tbody>\n",
       "    <tr>\n",
       "      <th>0</th>\n",
       "      <td>1</td>\n",
       "      <td>control</td>\n",
       "      <td>109963</td>\n",
       "      <td>3</td>\n",
       "      <td>15</td>\n",
       "      <td>0.200</td>\n",
       "    </tr>\n",
       "    <tr>\n",
       "      <th>1</th>\n",
       "      <td>1</td>\n",
       "      <td>control</td>\n",
       "      <td>26117</td>\n",
       "      <td>32</td>\n",
       "      <td>141</td>\n",
       "      <td>0.227</td>\n",
       "    </tr>\n",
       "    <tr>\n",
       "      <th>2</th>\n",
       "      <td>1</td>\n",
       "      <td>control</td>\n",
       "      <td>138232</td>\n",
       "      <td>18</td>\n",
       "      <td>73</td>\n",
       "      <td>0.247</td>\n",
       "    </tr>\n",
       "  </tbody>\n",
       "</table>\n",
       "</div>"
      ],
      "text/plain": [
       "   exp_group group_name  user_id  likes  views   ctr\n",
       "0          1    control   109963      3     15 0.200\n",
       "1          1    control    26117     32    141 0.227\n",
       "2          1    control   138232     18     73 0.247"
      ]
     },
     "execution_count": 116,
     "metadata": {},
     "output_type": "execute_result"
    }
   ],
   "source": [
    "df_ab.head(3)"
   ]
  },
  {
   "cell_type": "code",
   "execution_count": 117,
   "id": "c1fb2966-20c6-4ec4-9b5b-bed0964f6344",
   "metadata": {},
   "outputs": [],
   "source": [
    "# функция для сглаживания CTR\n",
    "def get_smoothed_ctr(group_name, user_likes, user_views, global_ctr_test, global_ctr_control, alpha):\n",
    "    if group_name == 'test':\n",
    "        smoothed_ctr = (user_likes + alpha * global_ctr_test) / (user_views + alpha)\n",
    "    else:\n",
    "        smoothed_ctr = (user_likes + alpha * global_ctr_control) / (user_views + alpha)\n",
    "    return smoothed_ctr"
   ]
  },
  {
   "cell_type": "code",
   "execution_count": 118,
   "id": "3a8b7135-74dc-4577-8d57-75c882745030",
   "metadata": {},
   "outputs": [],
   "source": [
    "# глобальные CTR\n",
    "global_ctr_test  = df_ab[df_ab['group_name'] == 'test'].likes.sum() / df_ab[df_ab['group_name'] == 'test'].views.sum()\n",
    "global_ctr_control  = df_ab[df_ab['group_name'] == 'control'].likes.sum() / df_ab[df_ab['group_name'] == 'control'].views.sum()"
   ]
  },
  {
   "cell_type": "code",
   "execution_count": 119,
   "id": "66a7ca06-951a-4aa8-bad6-8d8b43abb8ef",
   "metadata": {},
   "outputs": [
    {
     "data": {
      "text/plain": [
       "(0.20025051027061783, 0.2096041628394293)"
      ]
     },
     "execution_count": 119,
     "metadata": {},
     "output_type": "execute_result"
    }
   ],
   "source": [
    "global_ctr_test, global_ctr_control"
   ]
  },
  {
   "cell_type": "code",
   "execution_count": 120,
   "id": "f085de45-4158-4ae5-837b-7325e97d63bf",
   "metadata": {},
   "outputs": [
    {
     "data": {
      "application/json": {
       "ascii": false,
       "bar_format": null,
       "colour": null,
       "elapsed": 0.0709693431854248,
       "initial": 0,
       "n": 0,
       "ncols": null,
       "nrows": null,
       "postfix": null,
       "prefix": "Pandas Apply",
       "rate": null,
       "total": 19897,
       "unit": "it",
       "unit_divisor": 1000,
       "unit_scale": false
      },
      "application/vnd.jupyter.widget-view+json": {
       "model_id": "8a736a4a709747f5b502ba82bd48aa7a",
       "version_major": 2,
       "version_minor": 0
      },
      "text/plain": [
       "Pandas Apply:   0%|          | 0/19897 [00:00<?, ?it/s]"
      ]
     },
     "metadata": {},
     "output_type": "display_data"
    }
   ],
   "source": [
    "df_ab['smoothed_ctr'] = df_ab.swifter.apply(lambda x: get_smoothed_ctr(x['group_name'], x['likes'], x['views'], global_ctr_test, global_ctr_control, 5), axis=1)"
   ]
  },
  {
   "cell_type": "code",
   "execution_count": 121,
   "id": "e327dab0-fa44-43c5-9f13-a4438f281899",
   "metadata": {},
   "outputs": [
    {
     "data": {
      "text/html": [
       "<div>\n",
       "<style scoped>\n",
       "    .dataframe tbody tr th:only-of-type {\n",
       "        vertical-align: middle;\n",
       "    }\n",
       "\n",
       "    .dataframe tbody tr th {\n",
       "        vertical-align: top;\n",
       "    }\n",
       "\n",
       "    .dataframe thead th {\n",
       "        text-align: right;\n",
       "    }\n",
       "</style>\n",
       "<table border=\"1\" class=\"dataframe\">\n",
       "  <thead>\n",
       "    <tr style=\"text-align: right;\">\n",
       "      <th></th>\n",
       "      <th>exp_group</th>\n",
       "      <th>group_name</th>\n",
       "      <th>user_id</th>\n",
       "      <th>likes</th>\n",
       "      <th>views</th>\n",
       "      <th>ctr</th>\n",
       "      <th>smoothed_ctr</th>\n",
       "    </tr>\n",
       "  </thead>\n",
       "  <tbody>\n",
       "    <tr>\n",
       "      <th>1359</th>\n",
       "      <td>1</td>\n",
       "      <td>control</td>\n",
       "      <td>137317</td>\n",
       "      <td>20</td>\n",
       "      <td>79</td>\n",
       "      <td>0.253</td>\n",
       "      <td>0.251</td>\n",
       "    </tr>\n",
       "    <tr>\n",
       "      <th>12956</th>\n",
       "      <td>1</td>\n",
       "      <td>control</td>\n",
       "      <td>119207</td>\n",
       "      <td>6</td>\n",
       "      <td>45</td>\n",
       "      <td>0.133</td>\n",
       "      <td>0.141</td>\n",
       "    </tr>\n",
       "    <tr>\n",
       "      <th>16967</th>\n",
       "      <td>1</td>\n",
       "      <td>control</td>\n",
       "      <td>26228</td>\n",
       "      <td>21</td>\n",
       "      <td>105</td>\n",
       "      <td>0.200</td>\n",
       "      <td>0.200</td>\n",
       "    </tr>\n",
       "  </tbody>\n",
       "</table>\n",
       "</div>"
      ],
      "text/plain": [
       "       exp_group group_name  user_id  likes  views   ctr  smoothed_ctr\n",
       "1359           1    control   137317     20     79 0.253         0.251\n",
       "12956          1    control   119207      6     45 0.133         0.141\n",
       "16967          1    control    26228     21    105 0.200         0.200"
      ]
     },
     "execution_count": 121,
     "metadata": {},
     "output_type": "execute_result"
    }
   ],
   "source": [
    "df_ab.sample(3)"
   ]
  },
  {
   "cell_type": "markdown",
   "id": "1efa7d6a-6549-49b6-8a8f-2f54b426715a",
   "metadata": {},
   "source": [
    "# Графики сглаженного CTR"
   ]
  },
  {
   "cell_type": "code",
   "execution_count": 122,
   "id": "443ea29e-6b7b-4781-b074-bcce60923213",
   "metadata": {},
   "outputs": [
    {
     "data": {
      "image/png": "[encoded data removed]",
      "text/plain": [
       "<Figure size 1080x720 with 1 Axes>"
      ]
     },
     "metadata": {},
     "output_type": "display_data"
    }
   ],
   "source": [
    "sns.histplot(data = df_ab[df_ab['group_name'] == 'test'], x='ctr', label = 'ctr', alpha=0.5, element='step', fill=False);\n",
    "sns.histplot(data = df_ab[df_ab['group_name'] == 'test'], x='smoothed_ctr', label = 'smoothed_ctr', alpha=0.5, element='step', fill=False);\n",
    "plt.legend()\n",
    "plt.show()"
   ]
  },
  {
   "cell_type": "code",
   "execution_count": 123,
   "id": "4c073f90-1da1-4e71-ab64-55f844bf95d3",
   "metadata": {},
   "outputs": [
    {
     "data": {
      "image/png": "[encoded data removed]",
      "text/plain": [
       "<Figure size 1080x720 with 1 Axes>"
      ]
     },
     "metadata": {},
     "output_type": "display_data"
    }
   ],
   "source": [
    "sns.histplot(data = df_ab[df_ab['group_name'] == 'control'], x='ctr', label = 'ctr', alpha=0.5, element='step', fill=False);\n",
    "sns.histplot(data = df_ab[df_ab['group_name'] == 'control'], x='smoothed_ctr', label = 'smoothed_ctr', alpha=0.5, element='step', fill=False);\n",
    "plt.legend()\n",
    "plt.show()"
   ]
  },
  {
   "cell_type": "code",
   "execution_count": 124,
   "id": "582beac5-88df-47a8-9268-7a0db472a15d",
   "metadata": {},
   "outputs": [
    {
     "data": {
      "image/png": "[encoded data removed]",
      "text/plain": [
       "<Figure size 1080x432 with 2 Axes>"
      ]
     },
     "metadata": {},
     "output_type": "display_data"
    }
   ],
   "source": [
    "figure, axs = plt.subplots(1, 2, figsize=(15, 6), constrained_layout=True)\n",
    "\n",
    "sns.histplot(\n",
    "    data= df_ab,\n",
    "    x = 'ctr',\n",
    "    hue='group_name',\n",
    "    ax=axs[0]);\n",
    "\n",
    "axs[0].set_title('CRT', fontsize=15)\n",
    "\n",
    "sns.histplot(\n",
    "    data = df_ab, \n",
    "    x='smoothed_ctr', \n",
    "    hue='group_name',\n",
    "    ax=axs[1]);\n",
    "\n",
    "axs[1].set_title('Smoothed ctr', fontsize=15)\n",
    "\n",
    "plt.show()\n"
   ]
  },
  {
   "cell_type": "markdown",
   "id": "82e48a7b-f3c4-4dd0-a614-98be37911bf8",
   "metadata": {},
   "source": [
    "### Проводим t-тест и u-тест для сглаженного CTR."
   ]
  },
  {
   "cell_type": "code",
   "execution_count": 125,
   "id": "b60394e2-c068-476f-ac38-cbac018728fb",
   "metadata": {},
   "outputs": [
    {
     "name": "stdout",
     "output_type": "stream",
     "text": [
      "t-test: -0.4051491913112757, p-value: 0.685373331140751\n"
     ]
    }
   ],
   "source": [
    "stat_ttest_smooth, p_value_ttest_smooth = stats.ttest_ind(\n",
    "    df_ab[df_ab['group_name'] == 'test'].smoothed_ctr,\n",
    "    df_ab[df_ab['group_name'] == 'control'].smoothed_ctr,\n",
    "    equal_var=False\n",
    ")\n",
    "print(f't-test: {stat_ttest}, p-value: {p_value_ttest}')"
   ]
  },
  {
   "cell_type": "code",
   "execution_count": 126,
   "id": "725eb704-148a-49f9-81dd-b6b00c9006e0",
   "metadata": {},
   "outputs": [
    {
     "name": "stdout",
     "output_type": "stream",
     "text": [
      "u-test: 43777627.0, p-value: 4.632205841806026e-45\n"
     ]
    }
   ],
   "source": [
    "stat_utest_smooth, p_value_utest_smooth = stats.mannwhitneyu(\n",
    "    df_ab[df_ab['group_name'] == 'test'].smoothed_ctr,\n",
    "    df_ab[df_ab['group_name'] == 'control'].smoothed_ctr\n",
    ")\n",
    "print(f'u-test: {stat_utest}, p-value: {p_value_utest}')"
   ]
  },
  {
   "cell_type": "code",
   "execution_count": 127,
   "id": "39c4dd81-d3a1-46d9-beb1-59de4c74e60d",
   "metadata": {},
   "outputs": [
    {
     "data": {
      "application/json": {
       "ascii": false,
       "bar_format": null,
       "colour": null,
       "elapsed": 0.07408380508422852,
       "initial": 0,
       "n": 0,
       "ncols": null,
       "nrows": null,
       "postfix": null,
       "prefix": "",
       "rate": null,
       "total": 10000,
       "unit": "it",
       "unit_divisor": 1000,
       "unit_scale": false
      },
      "application/vnd.jupyter.widget-view+json": {
       "model_id": "2bd7e3737066432ba3e31a126710dd19",
       "version_major": 2,
       "version_minor": 0
      },
      "text/plain": [
       "  0%|          | 0/10000 [00:00<?, ?it/s]"
      ]
     },
     "metadata": {},
     "output_type": "display_data"
    },
    {
     "name": "stdout",
     "output_type": "stream",
     "text": [
      "B 44.35 % случаев Test > Control\n"
     ]
    }
   ],
   "source": [
    "test_smoothed = df_ab[df_ab['group_name'] == 'test'].smoothed_ctr.to_numpy()\n",
    "control_smoothed = df_ab[df_ab['group_name'] == 'control'].smoothed_ctr.to_numpy()\n",
    "\n",
    "\n",
    "A_gt_b = 0\n",
    "for _ in tqdm(range(10000)):\n",
    "    A_gt_b +=  np.random.choice(test_smoothed) > np.random.choice(control_smoothed)\n",
    "print('B', A_gt_b/100, '% случаев Test > Control')"
   ]
  },
  {
   "cell_type": "markdown",
   "id": "a3c2a8a9-7e84-481d-9e3f-fd2678ec91db",
   "metadata": {},
   "source": [
    "#### Результаты t-тест\n",
    "Так как p-value для t-теста для сглаженного CTR превышает уровень значимости 0,05, мы не может отвергнуть H0.  \n",
    "Поэтому на основе проведенного теста мы делаем вывод, что CTR не изменился.\n",
    "#### Реззультаты u-теста\n",
    "Так как p-value для t-теста меньше уровеня значимости 0,05, мы отвергаем H0.  \n",
    "В 43,15% случаев сглаженный CTR для тестовой выборки больше CTR контрольной выборки.\n"
   ]
  },
  {
   "cell_type": "code",
   "execution_count": 128,
   "id": "31095e4b-0040-4e79-8d5c-2fa2b0b9cdb6",
   "metadata": {
    "tags": []
   },
   "outputs": [
    {
     "name": "stdout",
     "output_type": "stream",
     "text": [
      "\n",
      "t-test\n",
      "CTR: \n",
      "    stat: -0.4051491913112757, p-value: 0.685373331140751\n",
      "CRT smoothed: \n",
      "    stat: -1.9460491517027683, p-value: 0.05166679015318526\n",
      "\n",
      "u-test\n",
      "CTR: \n",
      "    stat: 43777627.0, p-value: 4.632205841806026e-45\n",
      "CRT smoothed: \n",
      "    stat: 43439187.0, p-value: 2.396534039374286e-50\n",
      "\n"
     ]
    }
   ],
   "source": [
    "print(f'''\n",
    "t-test\n",
    "CTR: \n",
    "    stat: {stat_ttest}, p-value: {p_value_ttest}\n",
    "CRT smoothed: \n",
    "    stat: {stat_ttest_smooth}, p-value: {p_value_ttest_smooth}\n",
    "\n",
    "u-test\n",
    "CTR: \n",
    "    stat: {stat_utest}, p-value: {p_value_utest}\n",
    "CRT smoothed: \n",
    "    stat: {stat_utest_smooth}, p-value: {p_value_utest_smooth}\n",
    "''')"
   ]
  },
  {
   "cell_type": "markdown",
   "id": "3be861ed-ea8f-4720-bf5e-bc247db5bd95",
   "metadata": {},
   "source": [
    "Чуствительность тестов на сглаженном CRT увеличилась для обоих тестов."
   ]
  },
  {
   "cell_type": "markdown",
   "id": "6de1c3cc-9f50-4d2d-b751-69ca40c16ad3",
   "metadata": {},
   "source": [
    "### Пуассоновский бутстреп для подсчета разницы в CTR"
   ]
  },
  {
   "cell_type": "markdown",
   "id": "4712f266-6663-4862-8b86-636abcc65d09",
   "metadata": {},
   "source": [
    "Определяем функцию."
   ]
  },
  {
   "cell_type": "code",
   "execution_count": 129,
   "id": "2a9d8d63-f151-44d8-b504-31f027b64cf7",
   "metadata": {},
   "outputs": [],
   "source": [
    "def bootstrap(likes1, views1, likes2, views2, n_bootstrap=2000):\n",
    "    poisson_bootstrap1 = stats.poisson(1).rvs(\n",
    "        (n_bootstrap, len(likes1))).astype(np.int64)\n",
    "    \n",
    "    poisson_bootstrap2 = stats.poisson(1).rvs(\n",
    "        (n_bootstrap, len(likes2))).astype(np.int64)\n",
    "    \n",
    "    globalCTR1 = (poisson_bootstrap1 * likes1).sum(axis=1)/(poisson_bootstrap1 * views1).sum(axis=1)\n",
    "    \n",
    "    globalCTR2 = (poisson_bootstrap2 * likes2).sum(axis=1)/(poisson_bootstrap2 * views2).sum(axis=1)\n",
    "    \n",
    "    return globalCTR1, globalCTR2"
   ]
  },
  {
   "cell_type": "code",
   "execution_count": 130,
   "id": "9c6732a3-61af-4a17-817b-94bdbe55db87",
   "metadata": {},
   "outputs": [
    {
     "data": {
      "text/html": [
       "<div>\n",
       "<style scoped>\n",
       "    .dataframe tbody tr th:only-of-type {\n",
       "        vertical-align: middle;\n",
       "    }\n",
       "\n",
       "    .dataframe tbody tr th {\n",
       "        vertical-align: top;\n",
       "    }\n",
       "\n",
       "    .dataframe thead th {\n",
       "        text-align: right;\n",
       "    }\n",
       "</style>\n",
       "<table border=\"1\" class=\"dataframe\">\n",
       "  <thead>\n",
       "    <tr style=\"text-align: right;\">\n",
       "      <th></th>\n",
       "      <th>exp_group</th>\n",
       "      <th>group_name</th>\n",
       "      <th>user_id</th>\n",
       "      <th>likes</th>\n",
       "      <th>views</th>\n",
       "      <th>ctr</th>\n",
       "      <th>smoothed_ctr</th>\n",
       "    </tr>\n",
       "  </thead>\n",
       "  <tbody>\n",
       "    <tr>\n",
       "      <th>0</th>\n",
       "      <td>1</td>\n",
       "      <td>control</td>\n",
       "      <td>109963</td>\n",
       "      <td>3</td>\n",
       "      <td>15</td>\n",
       "      <td>0.200</td>\n",
       "      <td>0.202</td>\n",
       "    </tr>\n",
       "    <tr>\n",
       "      <th>1</th>\n",
       "      <td>1</td>\n",
       "      <td>control</td>\n",
       "      <td>26117</td>\n",
       "      <td>32</td>\n",
       "      <td>141</td>\n",
       "      <td>0.227</td>\n",
       "      <td>0.226</td>\n",
       "    </tr>\n",
       "  </tbody>\n",
       "</table>\n",
       "</div>"
      ],
      "text/plain": [
       "   exp_group group_name  user_id  likes  views   ctr  smoothed_ctr\n",
       "0          1    control   109963      3     15 0.200         0.202\n",
       "1          1    control    26117     32    141 0.227         0.226"
      ]
     },
     "execution_count": 130,
     "metadata": {},
     "output_type": "execute_result"
    }
   ],
   "source": [
    "df_ab.head(2)"
   ]
  },
  {
   "cell_type": "markdown",
   "id": "df03b49a-a980-44a1-a5d0-d0de4db961b1",
   "metadata": {},
   "source": [
    "Трансормируем данные из Pandas в массивы NumPy"
   ]
  },
  {
   "cell_type": "code",
   "execution_count": 131,
   "id": "8d2a7b31-abdb-46b7-8449-31d2d98c6f0e",
   "metadata": {},
   "outputs": [],
   "source": [
    "likes_test = df_ab[df_ab['group_name'] == 'test'].likes.to_numpy()\n",
    "\n",
    "views_test = df_ab[df_ab['group_name'] == 'test'].views.to_numpy()\n",
    "\n",
    "likes_control = df_ab[df_ab['group_name'] == 'control'].likes.to_numpy()\n",
    "\n",
    "views_control = df_ab[df_ab['group_name'] == 'control'].views.to_numpy()"
   ]
  },
  {
   "cell_type": "code",
   "execution_count": 132,
   "id": "0ceb5063-3238-4231-816b-eb9b4b0b166e",
   "metadata": {},
   "outputs": [],
   "source": [
    "ctr_test, ctr_control = bootstrap(likes_test, views_test, likes_control, views_control, n_bootstrap=10000)"
   ]
  },
  {
   "cell_type": "code",
   "execution_count": 133,
   "id": "65af215e-6c86-46c8-b198-63117622bb04",
   "metadata": {},
   "outputs": [
    {
     "data": {
      "image/png": "[encoded data removed]",
      "text/plain": [
       "<Figure size 1080x432 with 2 Axes>"
      ]
     },
     "metadata": {},
     "output_type": "display_data"
    }
   ],
   "source": [
    "figure, axs = plt.subplots(1, 2, figsize=(15, 6), constrained_layout=True)\n",
    "\n",
    "sns.histplot(ctr_test, label= 'ctr_test', ax=axs[0]);\n",
    "sns.histplot(ctr_control, label = 'ctr_control', ax=axs[0]);\n",
    "axs[0].legend()\n",
    "\n",
    "\n",
    "sns.histplot(ctr_test - ctr_control, label = 'diff ctr_test - ctr_control', ax=axs[1]);\n",
    "axs[1].axvline(0, color='red')\n",
    "axs[1].legend()\n",
    "\n",
    "plt.show()"
   ]
  },
  {
   "cell_type": "code",
   "execution_count": 134,
   "id": "92a374d0-408e-432d-9104-d0814248eedb",
   "metadata": {},
   "outputs": [
    {
     "data": {
      "text/plain": [
       "Ttest_indResult(statistic=-598.653766473912, pvalue=0.0)"
      ]
     },
     "execution_count": 134,
     "metadata": {},
     "output_type": "execute_result"
    }
   ],
   "source": [
    "stats.ttest_ind(\n",
    "    ctr_test,\n",
    "    ctr_control,\n",
    "    equal_var=False\n",
    ")"
   ]
  },
  {
   "cell_type": "code",
   "execution_count": 135,
   "id": "ab042392-d3ef-4647-bf25-2c15edd98e6a",
   "metadata": {},
   "outputs": [
    {
     "data": {
      "text/plain": [
       "MannwhitneyuResult(statistic=0.0, pvalue=0.0)"
      ]
     },
     "execution_count": 135,
     "metadata": {},
     "output_type": "execute_result"
    }
   ],
   "source": [
    "stats.mannwhitneyu(\n",
    "    ctr_test,\n",
    "    ctr_control\n",
    ")"
   ]
  },
  {
   "cell_type": "markdown",
   "id": "8f3e8e20-7de9-49ff-85cf-f90179a6df60",
   "metadata": {},
   "source": [
    "### Результаты бутстрепа\n",
    "\n",
    "По результатам проведения анализа можно утверждать, что пользователи, для которых работал новый алгоритм рекомендаций реже лайкали просмотренные посты, то есть их вовлеченность снизилась. \n",
    "Необходимости рассчитывать довверительные интервалы нет.  \n",
    "\n",
    "Поэтому следует отказаться от раскатывания алгоритма на всех пользователей.  "
   ]
  },
  {
   "cell_type": "markdown",
   "id": "8ac8f1e1-9974-4105-8482-0a2beae01b2e",
   "metadata": {},
   "source": [
    "### Бакетное преобразование"
   ]
  },
  {
   "cell_type": "markdown",
   "id": "4c502bee-4030-4100-947b-63f0388b2f6c",
   "metadata": {},
   "source": [
    "Запрос для получения данных"
   ]
  },
  {
   "cell_type": "code",
   "execution_count": 140,
   "id": "0ce5b2fd-b595-437b-bb42-8bc0cce0e674",
   "metadata": {},
   "outputs": [],
   "source": [
    "query_bucket = '''\n",
    "select  exp_group,\n",
    "        case when exp_group = 1 then 'control' else 'test' end as group_name,\n",
    "        bucket,\n",
    "        sum(likes)/sum(views) as bucket_ctr,\n",
    "        quantileExact(0.9)(ctr) as ctr9\n",
    "from (\n",
    "  select  exp_group,\n",
    "          xxHash64(user_id)%50 as bucket,\n",
    "          user_id,\n",
    "          sum(action = 'like') as likes,\n",
    "          sum(action = 'view') as views,\n",
    "          likes / views as ctr\n",
    "  from    simulator_20231113.feed_actions\n",
    "  where   exp_group in (1, 2) and toDate(time) >= toDate('2023-10-25') and toDate(time) <= toDate('2023-10-31')\n",
    "  group by exp_group, bucket, user_id)\n",
    "group by exp_group, bucket\n",
    "'''"
   ]
  },
  {
   "cell_type": "code",
   "execution_count": 141,
   "id": "1701aab7-bb2a-43e3-bdcf-43976777274c",
   "metadata": {},
   "outputs": [],
   "source": [
    "df_bucket = ph.read_clickhouse(query_bucket, connection= connection)"
   ]
  },
  {
   "cell_type": "code",
   "execution_count": 142,
   "id": "34c8348a-29f3-4e52-8531-0f5edf4b0362",
   "metadata": {},
   "outputs": [
    {
     "data": {
      "text/html": [
       "<div>\n",
       "<style scoped>\n",
       "    .dataframe tbody tr th:only-of-type {\n",
       "        vertical-align: middle;\n",
       "    }\n",
       "\n",
       "    .dataframe tbody tr th {\n",
       "        vertical-align: top;\n",
       "    }\n",
       "\n",
       "    .dataframe thead th {\n",
       "        text-align: right;\n",
       "    }\n",
       "</style>\n",
       "<table border=\"1\" class=\"dataframe\">\n",
       "  <thead>\n",
       "    <tr style=\"text-align: right;\">\n",
       "      <th></th>\n",
       "      <th>exp_group</th>\n",
       "      <th>group_name</th>\n",
       "      <th>bucket</th>\n",
       "      <th>bucket_ctr</th>\n",
       "      <th>ctr9</th>\n",
       "    </tr>\n",
       "  </thead>\n",
       "  <tbody>\n",
       "    <tr>\n",
       "      <th>0</th>\n",
       "      <td>1</td>\n",
       "      <td>control</td>\n",
       "      <td>0</td>\n",
       "      <td>0.201</td>\n",
       "      <td>0.306</td>\n",
       "    </tr>\n",
       "    <tr>\n",
       "      <th>1</th>\n",
       "      <td>2</td>\n",
       "      <td>test</td>\n",
       "      <td>0</td>\n",
       "      <td>0.197</td>\n",
       "      <td>0.385</td>\n",
       "    </tr>\n",
       "    <tr>\n",
       "      <th>2</th>\n",
       "      <td>1</td>\n",
       "      <td>control</td>\n",
       "      <td>1</td>\n",
       "      <td>0.209</td>\n",
       "      <td>0.311</td>\n",
       "    </tr>\n",
       "    <tr>\n",
       "      <th>3</th>\n",
       "      <td>2</td>\n",
       "      <td>test</td>\n",
       "      <td>1</td>\n",
       "      <td>0.210</td>\n",
       "      <td>0.486</td>\n",
       "    </tr>\n",
       "    <tr>\n",
       "      <th>4</th>\n",
       "      <td>1</td>\n",
       "      <td>control</td>\n",
       "      <td>2</td>\n",
       "      <td>0.205</td>\n",
       "      <td>0.314</td>\n",
       "    </tr>\n",
       "  </tbody>\n",
       "</table>\n",
       "</div>"
      ],
      "text/plain": [
       "   exp_group group_name  bucket  bucket_ctr  ctr9\n",
       "0          1    control       0       0.201 0.306\n",
       "1          2       test       0       0.197 0.385\n",
       "2          1    control       1       0.209 0.311\n",
       "3          2       test       1       0.210 0.486\n",
       "4          1    control       2       0.205 0.314"
      ]
     },
     "execution_count": 142,
     "metadata": {},
     "output_type": "execute_result"
    }
   ],
   "source": [
    "df_bucket.head(5)"
   ]
  },
  {
   "cell_type": "code",
   "execution_count": 143,
   "id": "d7e6b76d-bd99-4398-b221-3fa87b19aae5",
   "metadata": {},
   "outputs": [
    {
     "data": {
      "image/png": "[encoded data removed]",
      "text/plain": [
       "<Figure size 1080x720 with 1 Axes>"
      ]
     },
     "metadata": {},
     "output_type": "display_data"
    }
   ],
   "source": [
    "sns.histplot(data = df_bucket, x = 'bucket_ctr', hue = 'group_name', bins = 20);\n",
    "plt.show()"
   ]
  },
  {
   "cell_type": "code",
   "execution_count": 144,
   "id": "1218e6a0-faee-4907-9996-a4c75ca2f859",
   "metadata": {},
   "outputs": [
    {
     "name": "stdout",
     "output_type": "stream",
     "text": [
      "t-test: -5.614819358149381, p_value: 4.592644937473873e-07\n"
     ]
    }
   ],
   "source": [
    "stat_ttest_bucket, p_value_ttest_bucket = stats.ttest_ind(\n",
    "    df_bucket[df_bucket['group_name'] == 'test'].bucket_ctr,\n",
    "    df_bucket[df_bucket['group_name'] == 'control'].bucket_ctr,\n",
    "    equal_var=False\n",
    ")\n",
    "\n",
    "print(f't-test: {stat_ttest_bucket}, p_value: {p_value_ttest_bucket}')"
   ]
  },
  {
   "cell_type": "code",
   "execution_count": 145,
   "id": "af067587-c709-4e37-9764-86acf08f5cb2",
   "metadata": {},
   "outputs": [
    {
     "name": "stdout",
     "output_type": "stream",
     "text": [
      "u-test: 1997.0, p_value: 2.6576427804010095e-07\n"
     ]
    }
   ],
   "source": [
    "stat_utest_bucket, p_value_utest_bucket = stats.mannwhitneyu(\n",
    "    df_bucket[df_bucket['group_name'] == 'control'].bucket_ctr,\n",
    "    df_bucket[df_bucket['group_name'] == 'test'].bucket_ctr,\n",
    "    alternative='two-sided'\n",
    ")\n",
    "print(f'u-test: {stat_utest_bucket}, p_value: {p_value_utest_bucket}')"
   ]
  },
  {
   "cell_type": "code",
   "execution_count": 146,
   "id": "a679115b-9db5-43de-bcf4-14a21a080f70",
   "metadata": {},
   "outputs": [
    {
     "data": {
      "application/json": {
       "ascii": false,
       "bar_format": null,
       "colour": null,
       "elapsed": 0.05142998695373535,
       "initial": 0,
       "n": 0,
       "ncols": null,
       "nrows": null,
       "postfix": null,
       "prefix": "",
       "rate": null,
       "total": 10000,
       "unit": "it",
       "unit_divisor": 1000,
       "unit_scale": false
      },
      "application/vnd.jupyter.widget-view+json": {
       "model_id": "845cc377631841398388865e02036345",
       "version_major": 2,
       "version_minor": 0
      },
      "text/plain": [
       "  0%|          | 0/10000 [00:00<?, ?it/s]"
      ]
     },
     "metadata": {},
     "output_type": "display_data"
    },
    {
     "name": "stdout",
     "output_type": "stream",
     "text": [
      "B 20.74 % случаев Test > Control\n"
     ]
    }
   ],
   "source": [
    "test_bucket = df_bucket[df_bucket['group_name'] == 'test'].bucket_ctr.to_numpy()\n",
    "control_bucket = df_bucket[df_bucket['group_name'] == 'control'].bucket_ctr.to_numpy()\n",
    "\n",
    "A_gt_b = 0\n",
    "for _ in tqdm(range(10000)):\n",
    "    A_gt_b +=  np.random.choice(test_bucket) > np.random.choice(control_bucket)\n",
    "print('B', A_gt_b/100, '% случаев Test > Control')"
   ]
  },
  {
   "cell_type": "markdown",
   "id": "7762bf57-72f4-49d7-9abc-caceab86a8ce",
   "metadata": {},
   "source": [
    "### Результаты оценки разницы среднего CTR с помощью бакетного преобразования, t-теста и U-теста Манна-Уитни  \n",
    "Оба теста имеют уровень значимости менее 0,05, а значит в обоих случаях мы отвергаем H0.  \n",
    "Мы наблюдает разницу средних CTR, вероятность, что CTR для тестовой выборки будет больше, чем в контрольной составляет 19,9%.  \n",
    "Также это подтверждаем гистрграммой со сравнение это метрики для групп.  \n",
    "На основании этого мы опять приходим к выводу, что раскатывать новый алгоритм на всех пользователей не рекомендуется.  "
   ]
  },
  {
   "cell_type": "code",
   "execution_count": 42,
   "id": "73de9a6d-9ed5-4b30-ad58-6dbef5d2ed2d",
   "metadata": {
    "jupyter": {
     "source_hidden": true
    },
    "tags": []
   },
   "outputs": [
    {
     "name": "stdout",
     "output_type": "stream",
     "text": [
      "\n",
      "t-test\n",
      "CTR: \n",
      "    stat: -0.4051491913112757, p-value: 0.685373331140751\n",
      "CRT smoothed: \n",
      "    stat: -5.614819358149381, p-value: 4.592644937473873e-07\n",
      "\n",
      "u-test\n",
      "CTR: \n",
      "    stat: 43777627.0, p-value: 4.632205841806026e-45\n",
      "CRT bucket: \n",
      "    stat: 1997.0, p-value: 2.6576427804010095e-07\n",
      "\n"
     ]
    }
   ],
   "source": [
    "print(f'''\n",
    "t-test\n",
    "CTR: \n",
    "    stat: {stat_ttest}, p-value: {p_value_ttest}\n",
    "CRT smoothed: \n",
    "    stat: {stat_ttest_bucket}, p-value: {p_value_ttest_bucket}\n",
    "\n",
    "u-test\n",
    "CTR: \n",
    "    stat: {stat_utest}, p-value: {p_value_utest}\n",
    "CRT bucket: \n",
    "    stat: {stat_utest_bucket}, p-value: {p_value_utest_bucket}\n",
    "''')"
   ]
  },
  {
   "cell_type": "markdown",
   "id": "a6b43450-b771-4bc5-9533-fe22892f2421",
   "metadata": {},
   "source": [
    "Чуствительность тестов к данным прошедшим бакетное преобразование заметно выше."
   ]
  },
  {
   "cell_type": "markdown",
   "id": "acd9a4a3-3f6b-4d67-9229-cfff5a693934",
   "metadata": {},
   "source": [
    "### Анализ 90% квантиля CTR"
   ]
  },
  {
   "cell_type": "code",
   "execution_count": 147,
   "id": "a716a880-b97e-4208-8bc5-49f2f9a181fb",
   "metadata": {},
   "outputs": [
    {
     "data": {
      "image/png": "[encoded data removed]",
      "text/plain": [
       "<Figure size 1080x720 with 1 Axes>"
      ]
     },
     "metadata": {},
     "output_type": "display_data"
    }
   ],
   "source": [
    "sns.histplot(data = df_bucket, x = 'ctr9', hue = 'group_name', bins = 20);\n",
    "plt.show()"
   ]
  },
  {
   "cell_type": "code",
   "execution_count": 148,
   "id": "172f10e2-0510-4522-9fe6-d6f69ab5f5a2",
   "metadata": {},
   "outputs": [
    {
     "name": "stdout",
     "output_type": "stream",
     "text": [
      "t-test: 22.821214612754606, p_value: 4.17295352116894e-38\n"
     ]
    }
   ],
   "source": [
    "stat_ttest, p_value_ttest = stats.ttest_ind(\n",
    "    df_bucket[df_bucket['group_name'] == 'test'].ctr9,\n",
    "    df_bucket[df_bucket['group_name'] == 'control'].ctr9,\n",
    "    equal_var=False\n",
    ")\n",
    "\n",
    "print(f't-test: {stat_ttest}, p_value: {p_value_ttest}')"
   ]
  },
  {
   "cell_type": "code",
   "execution_count": 149,
   "id": "28fdb31c-87a1-4366-afdd-e6d2e977fecf",
   "metadata": {},
   "outputs": [
    {
     "name": "stdout",
     "output_type": "stream",
     "text": [
      "u-test: 2500.0, p_value: 6.7601631082665925e-18\n"
     ]
    }
   ],
   "source": [
    "stat_u_test, p_value_u_test = stats.mannwhitneyu(\n",
    "    df_bucket[df_bucket['group_name'] == 'test'].ctr9,\n",
    "    df_bucket[df_bucket['group_name'] == 'control'].ctr9,\n",
    "    alternative='two-sided'\n",
    ")\n",
    "print(f'u-test: {stat_u_test}, p_value: {p_value_u_test}')"
   ]
  },
  {
   "cell_type": "code",
   "execution_count": 150,
   "id": "1be12f52-20f7-4938-b56f-f920dda0075c",
   "metadata": {},
   "outputs": [
    {
     "data": {
      "application/json": {
       "ascii": false,
       "bar_format": null,
       "colour": null,
       "elapsed": 0.08293700218200684,
       "initial": 0,
       "n": 0,
       "ncols": null,
       "nrows": null,
       "postfix": null,
       "prefix": "",
       "rate": null,
       "total": 10000,
       "unit": "it",
       "unit_divisor": 1000,
       "unit_scale": false
      },
      "application/vnd.jupyter.widget-view+json": {
       "model_id": "945a3abe2e9c46c588297bd8703bd188",
       "version_major": 2,
       "version_minor": 0
      },
      "text/plain": [
       "  0%|          | 0/10000 [00:00<?, ?it/s]"
      ]
     },
     "metadata": {},
     "output_type": "display_data"
    },
    {
     "name": "stdout",
     "output_type": "stream",
     "text": [
      "B 100.0 % случаев Test > Control\n"
     ]
    }
   ],
   "source": [
    "test_bucket_ctr9 = df_bucket[df_bucket['group_name'] == 'test'].ctr9.to_numpy()\n",
    "control_bucket_ctr9 = df_bucket[df_bucket['group_name'] == 'control'].ctr9.to_numpy()\n",
    "\n",
    "A_gt_b = 0\n",
    "for _ in tqdm(range(10000)):\n",
    "    A_gt_b +=  np.random.choice(test_bucket_ctr9) > np.random.choice(control_bucket_ctr9)\n",
    "print('B', A_gt_b/100, '% случаев Test > Control')"
   ]
  },
  {
   "cell_type": "markdown",
   "id": "f4bb78d0-c741-49bf-8818-8e1181a96b3c",
   "metadata": {},
   "source": [
    "### Выводы на основе анализа разницы 90%-квантиля CTR для пользователей  \n",
    "На графике для сравнения данных показателей видно, квантиль CTR в тестовой группе выше, чем в контрольной.  \n",
    "Эта раница подтверждается проведенными t-тестом и U-тестом для который p-value находится ниже заданного уровня значимости.  \n",
    "Не смотря на то, что использование t-теста для сравнения квантилей может дать некорретный результат, анализ графиков, U-теста, позволяет утверждать, что значение 90% квантиля увеличилось.  \n",
    "\n"
   ]
  },
  {
   "cell_type": "code",
   "execution_count": 151,
   "id": "88f2840a-eca4-4f6a-9bda-0a736a73d92f",
   "metadata": {},
   "outputs": [
    {
     "data": {
      "image/png": "[encoded data removed]",
      "text/plain": [
       "<Figure size 1080x720 with 1 Axes>"
      ]
     },
     "metadata": {},
     "output_type": "display_data"
    }
   ],
   "source": [
    "sns.histplot(\n",
    "    data= df_ab,\n",
    "    x = 'ctr',\n",
    "    hue='group_name');\n",
    "\n",
    "plt.show()"
   ]
  },
  {
   "cell_type": "markdown",
   "id": "d799b11d-5969-4417-88b6-5c3c14266643",
   "metadata": {},
   "source": [
    "### Итоги\n",
    "\n",
    "Резльтаты t-теста для CTR не позволили найти различия средних, U-тест позволил выявить определенные изменения в распределении CTR, который виден на графике.  \n",
    "Для сглаженного CTR результаты t-теста и u-теста остались похожими (но чуствительность тестов заметно выросла).  \n",
    "Пуассоновский бутстреп позволил выявить разницу между контрольной и тестовой выборками, пользователи с новой системой рекомендация значительно меньше ставят лайков просмотренным постам, то есть уровень их вовлеченности упал.  \n",
    "Результаты тестов с бакетных преобразованием также указывают на, то что CTR для тестовой группы снизился.  \n",
    "Однако 90% квантиль CTR заметно увеличился.  \n",
    "\n",
    "### Рекомендации:\n",
    "От раскатывания нового алгоритма (рекомендации \"похожих на лайкнутые постов\") на всех пользователей следует отказаться.  \n",
    "Но учитывая, что для часть пользователей наоборот стала более вовлеченной (выше продублирован график с CTR, также увеличился 90% квантиль CTR),\n",
    "стоит болеее подробно изучить влияние нового алгоритма на часть полльзователей.  \n",
    "Возможно у нас есть категория пользователей, для которой новый алгоритм дает лучшие результаты.  "
   ]
  },
  {
   "cell_type": "code",
   "execution_count": null,
   "id": "040a7e95-d54c-4381-88ca-54177c37e282",
   "metadata": {},
   "outputs": [],
   "source": []
  }
 ],
 "metadata": {
  "kernelspec": {
   "display_name": "Python 3 (ipykernel)",
   "language": "python",
   "name": "python3"
  },
  "language_info": {
   "codemirror_mode": {
    "name": "ipython",
    "version": 3
   },
   "file_extension": ".py",
   "mimetype": "text/x-python",
   "name": "python",
   "nbconvert_exporter": "python",
   "pygments_lexer": "ipython3",
   "version": "3.8.10"
  }
 },
 "nbformat": 4,
 "nbformat_minor": 5
}
